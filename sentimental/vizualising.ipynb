{
 "cells": [
  {
   "cell_type": "code",
   "execution_count": 25,
   "metadata": {},
   "outputs": [
    {
     "name": "stdout",
     "output_type": "stream",
     "text": [
      "['-1.0']\n",
      "['6.0']\n",
      "['-1.0']\n",
      "['4.0']\n",
      "['1.0']\n",
      "['8.0']\n",
      "['-5.0']\n",
      "['-2.0']\n",
      "['3.0']\n",
      "['4.0']\n",
      "['7.0']\n",
      "['0.0']\n",
      "['7.0']\n",
      "['0.0']\n",
      "['11.0']\n",
      "['-2.0']\n",
      "['-1.0']\n",
      "['2.0']\n",
      "['-1.0']\n",
      "['0.0']\n",
      "['-3.0']\n",
      "['-3.0']\n",
      "['4.0']\n",
      "['1.0']\n",
      "['-1.0']\n",
      "['0.0']\n",
      "['2.0']\n",
      "['5.0']\n",
      "['0.0']\n",
      "['0.0']\n",
      "['0.0']\n",
      "['7.0']\n",
      "['6.0']\n",
      "['-3.0']\n",
      "['4.0']\n",
      "['-1.0']\n",
      "['6.0']\n",
      "['14.0']\n",
      "['8.0']\n",
      "['3.0']\n",
      "['0.0']\n",
      "29\n",
      "12\n"
     ]
    }
   ],
   "source": [
    "import matplotlib as mpl\n",
    "import matplotlib.pyplot as plt\n",
    "import matplotlib.dates as mdates\n",
    "import datetime as dt\n",
    "import csv\n",
    "\n",
    "data_names = ['положительные', 'отрицательные']\n",
    "data_values = []\n",
    "data_values.insert(0,0)\n",
    "data_values.insert(1,0)\n",
    "\n",
    "with open('score.csv', \"r\", newline=\"\") as file:\n",
    "    reader = csv.reader(file)\n",
    "    \n",
    "    for cel in reader:\n",
    "        print(cel)\n",
    "        if cel[0]>'0':\n",
    "            data_values[0]+=1\n",
    "        elif cel[0]<'0':\n",
    "            data_values[1]+=1\n",
    "       \n",
    "print(data_values[0])\n",
    "print(data_values[1])\n",
    "\n",
    "        \n",
    "            \n",
    "\n",
    "\n"
   ]
  },
  {
   "cell_type": "code",
   "execution_count": 26,
   "metadata": {},
   "outputs": [
    {
     "data": {
      "image/png": "[encoded data removed]",
      "text/plain": [
       "<matplotlib.figure.Figure at 0x1da8fd75128>"
      ]
     },
     "metadata": {},
     "output_type": "display_data"
    }
   ],
   "source": [
    "dpi = 80\n",
    "fig = plt.figure(dpi = dpi, figsize = (512 / dpi, 384 / dpi) )\n",
    "mpl.rcParams.update({'font.size': 9})\n",
    "\n",
    "plt.title('Отзывы по фильму Deadpool 2')\n",
    "\n",
    "xs = range(len(data_names))\n",
    "\n",
    "plt.pie( \n",
    "    data_values, autopct='%.1f', radius = 1.1,\n",
    "    explode = [0.15] + [0 for _ in range(len(data_names) - 1)] )\n",
    "plt.legend(\n",
    "    bbox_to_anchor = (-0.16, 0.45, 0.25, 0.25),\n",
    "    loc = 'lower left', labels = data_names )\n",
    "fig.savefig('pie.png')\n"
   ]
  },
  {
   "cell_type": "code",
   "execution_count": null,
   "metadata": {},
   "outputs": [],
   "source": []
  }
 ],
 "metadata": {
  "kernelspec": {
   "display_name": "Python 3",
   "language": "python",
   "name": "python3"
  },
  "language_info": {
   "codemirror_mode": {
    "name": "ipython",
    "version": 3
   },
   "file_extension": ".py",
   "mimetype": "text/x-python",
   "name": "python",
   "nbconvert_exporter": "python",
   "pygments_lexer": "ipython3",
   "version": "3.6.4"
  }
 },
 "nbformat": 4,
 "nbformat_minor": 2
}
