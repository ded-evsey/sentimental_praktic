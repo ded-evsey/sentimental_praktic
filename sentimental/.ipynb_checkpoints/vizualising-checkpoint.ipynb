{
 "cells": [
  {
   "cell_type": "code",
   "execution_count": 1,
   "metadata": {},
   "outputs": [],
   "source": [
    "import matplotlib as mpl\n",
    "import matplotlib.pyplot as plt\n",
    "import matplotlib.dates as mdates\n",
    "import datetime as dt\n",
    "import csv\n",
    "\n",
    "data_names = ['Москва', 'Санкт-Петербург', 'Сочи', 'Архангельск',\n",
    "              'Владимир', 'Краснодар', 'Курск', 'Воронеж',\n",
    "              'Ставрополь', 'Мурманск']\n",
    "data_values = [1076, 979, 222, 189, 137, 134, 124, 124, 91, 79]\n",
    "\n",
    "dpi = 80\n",
    "fig = plt.figure(dpi = dpi, figsize = (512 / dpi, 384 / dpi) )\n",
    "mpl.rcParams.update({'font.size': 9})\n",
    "\n",
    "plt.title('Распределение кафе по городам России (%)')\n",
    "\n",
    "xs = range(len(data_names))\n",
    "\n",
    "plt.pie( \n",
    "    data_values, autopct='%.1f', radius = 1.1,\n",
    "    explode = [0.15] + [0 for _ in range(len(data_names) - 1)] )\n",
    "plt.legend(\n",
    "    bbox_to_anchor = (-0.16, 0.45, 0.25, 0.25),\n",
    "    loc = 'lower left', labels = data_names )\n",
    "fig.savefig('pie.png')\n"
   ]
  },
  {
   "cell_type": "code",
   "execution_count": null,
   "metadata": {},
   "outputs": [],
   "source": []
  }
 ],
 "metadata": {
  "kernelspec": {
   "display_name": "Python 3",
   "language": "python",
   "name": "python3"
  },
  "language_info": {
   "codemirror_mode": {
    "name": "ipython",
    "version": 3
   },
   "file_extension": ".py",
   "mimetype": "text/x-python",
   "name": "python",
   "nbconvert_exporter": "python",
   "pygments_lexer": "ipython3",
   "version": "3.6.4"
  }
 },
 "nbformat": 4,
 "nbformat_minor": 2
}
